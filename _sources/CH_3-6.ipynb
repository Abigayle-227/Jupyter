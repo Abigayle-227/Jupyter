{
 "cells": [
  {
   "cell_type": "markdown",
   "metadata": {},
   "source": [
    "# Chapter 3.6: How might the virus spread in the future?"
   ]
  },
  {
   "cell_type": "code",
   "execution_count": 1,
   "metadata": {},
   "outputs": [],
   "source": [
    "import pandas as pd\n",
    "import requests\n",
    "import numpy as np\n",
    "import matplotlib.pyplot as plt\n",
    "from functions import calculate_infection, detection_plot, clean_deaths, clean_cases\n",
    "from scipy.optimize import curve_fit"
   ]
  },
  {
   "cell_type": "code",
   "execution_count": 2,
   "metadata": {},
   "outputs": [],
   "source": [
    "deaths_df = pd.read_csv('https://raw.githubusercontent.com/CSSEGISandData/COVID-19/master/csse_covid_19_data/csse_covid_19_time_series/time_series_covid19_deaths_US.csv')"
   ]
  },
  {
   "cell_type": "code",
   "execution_count": 3,
   "metadata": {},
   "outputs": [],
   "source": [
    "deaths_df = clean_deaths(deaths_df)"
   ]
  },
  {
   "cell_type": "code",
   "execution_count": 4,
   "metadata": {},
   "outputs": [],
   "source": [
    "deaths_df_HR = deaths_df.iloc[362,:]\n",
    "deaths_df_HR = deaths_df_HR.reset_index()\n",
    "index_val = len(deaths_df_HR.index)"
   ]
  },
  {
   "cell_type": "code",
   "execution_count": 5,
   "metadata": {},
   "outputs": [],
   "source": [
    "calculate_infection(deaths_df_HR, index_val)"
   ]
  },
  {
   "cell_type": "code",
   "execution_count": 6,
   "metadata": {},
   "outputs": [],
   "source": [
    "deaths_df_HR = deaths_df_HR[0:-18]"
   ]
  },
  {
   "cell_type": "markdown",
   "metadata": {},
   "source": [
    "# Miami-Dade County"
   ]
  },
  {
   "cell_type": "code",
   "execution_count": 13,
   "metadata": {},
   "outputs": [
    {
     "data": {
      "text/plain": [
       "[<matplotlib.lines.Line2D at 0x11802c990>]"
      ]
     },
     "execution_count": 13,
     "metadata": {},
     "output_type": "execute_result"
    },
    {
     "data": {
      "image/png": "[encoded data removed]",
      "text/plain": [
       "<Figure size 432x288 with 1 Axes>"
      ]
     },
     "metadata": {
      "needs_background": "light"
     },
     "output_type": "display_data"
    }
   ],
   "source": [
    "def logistic(x, midpoint=0, rate=.8, maximum=1):\n",
    "    return maximum / (1 + np.exp(-rate * (x - midpoint)))\n",
    "\n",
    "x = np.linspace(-6, 10, 1000)\n",
    "y = logistic(x)# + logistic(x, midpoint=6, rate=2, maximum=5)\n",
    "\n",
    "\n",
    "\n",
    "def double_log(x, x1, r1, m1, x2, r2, m2):\n",
    "    return logistic(x, x1, r1, m1) + logistic(x, x2, r2, m2)\n",
    "\n",
    "\n",
    "popt1, _ = curve_fit(logistic, range(0,158),  deaths_df_HR['total_infections'], p0=[0,0,0])\n",
    "\n",
    "popt2, _ = curve_fit(double_log, range(0,158), deaths_df_HR['total_infections'], p0=[0,0,0,0,0,0])\n",
    "\n",
    "xmodel = np.linspace(-10, 190, 1000)\n",
    "ymodel1 = logistic(xmodel, *popt1)\n",
    "\n",
    "ymodel2 = double_log(xmodel, *popt2)\n",
    "\n",
    "plt.plot(xmodel, ymodel2, 'r')\n",
    "plt.plot(range(0,158), deaths_df_HR['total_infections'], 'b')\n",
    "\n"
   ]
  },
  {
   "cell_type": "code",
   "execution_count": null,
   "metadata": {},
   "outputs": [],
   "source": []
  }
 ],
 "metadata": {
  "kernelspec": {
   "display_name": "Python 3",
   "language": "python",
   "name": "python3"
  },
  "language_info": {
   "codemirror_mode": {
    "name": "ipython",
    "version": 3
   },
   "file_extension": ".py",
   "mimetype": "text/x-python",
   "name": "python",
   "nbconvert_exporter": "python",
   "pygments_lexer": "ipython3",
   "version": "3.7.6"
  }
 },
 "nbformat": 4,
 "nbformat_minor": 4
}
