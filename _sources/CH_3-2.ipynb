{
 "cells": [
  {
   "cell_type": "markdown",
   "metadata": {},
   "source": [
    "# Results: LA Counties Estimated Infections and Rate of Detection"
   ]
  },
  {
   "cell_type": "code",
   "execution_count": 1,
   "metadata": {},
   "outputs": [],
   "source": [
    "import pandas as pd\n",
    "import plotly.express as px\n",
    "%matplotlib widget\n",
    "import matplotlib.pyplot as plt\n",
    "import numpy as np"
   ]
  },
  {
   "cell_type": "code",
   "execution_count": 2,
   "metadata": {},
   "outputs": [
    {
     "name": "stdout",
     "output_type": "stream",
     "text": [
      "Using LA backup file.\n"
     ]
    }
   ],
   "source": [
    "try:\n",
    "    df = pd.read_csv('https://lacdph.shinyapps.io/covid19_surveillance_dashboard/_w_355748cc/session/7b519430b33e061672e690e7aa06a2c1/download/download3?w=355748cc')\n",
    "    df.to_csv('LA_Backup.csv', index = False)\n",
    "except:\n",
    "    df = pd.read_csv('LA_Backup.csv', index_col = False )\n",
    "    print(\"Using LA backup file.\")"
   ]
  },
  {
   "cell_type": "code",
   "execution_count": 3,
   "metadata": {},
   "outputs": [],
   "source": [
    "index_val = len(df.index) \n",
    "df = df.sort_index(ascending=False, axis=0)\n",
    "df = df.reset_index()"
   ]
  },
  {
   "cell_type": "code",
   "execution_count": 4,
   "metadata": {},
   "outputs": [],
   "source": [
    "for ind in df.index:\n",
    "    if (int(ind)+18) > index_val-1:\n",
    "        df.loc[ind, 'total_infections'] = 0\n",
    "    else:\n",
    "        df.loc[ind, 'total_infections'] = df.loc[ind+18, 'total_deaths'] * 100"
   ]
  },
  {
   "cell_type": "code",
   "execution_count": 5,
   "metadata": {},
   "outputs": [],
   "source": [
    "df = df[0:-18]"
   ]
  },
  {
   "cell_type": "code",
   "execution_count": 6,
   "metadata": {},
   "outputs": [
    {
     "data": {
      "application/vnd.jupyter.widget-view+json": {
       "model_id": "ad391c3af5dd45e7b57500d2708ab3a1",
       "version_major": 2,
       "version_minor": 0
      },
      "text/plain": [
       "Canvas(toolbar=Toolbar(toolitems=[('Home', 'Reset original view', 'home', 'home'), ('Back', 'Back to previous …"
      ]
     },
     "metadata": {},
     "output_type": "display_data"
    },
    {
     "data": {
      "text/plain": [
       "<matplotlib.legend.Legend at 0x10fec2850>"
      ]
     },
     "execution_count": 6,
     "metadata": {},
     "output_type": "execute_result"
    }
   ],
   "source": [
    "fig, ax = plt.subplots()\n",
    "ax.plot(df['date_use'], df['total_infections'], label='Estimated Infections')\n",
    "ax.plot(df['date_use'], df['total_cases'], label='Confirmed cases')\n",
    "ax.set_xlabel('days')\n",
    "ax.set_ylabel('total infections at 1%')\n",
    "plt.xticks(np.arange(0, 110, step=21)) \n",
    "ax.legend()"
   ]
  },
  {
   "cell_type": "markdown",
   "metadata": {},
   "source": [
    "This graph displays LA's estimated number of infections, calculated with death counts and death rate, and the number of confirmed cases of COVID 19.  "
   ]
  },
  {
   "cell_type": "code",
   "execution_count": 7,
   "metadata": {},
   "outputs": [],
   "source": [
    "df = df[15:-1]\n",
    "df['detection_rate'] = df['total_cases'] / df['total_infections']"
   ]
  },
  {
   "cell_type": "code",
   "execution_count": 8,
   "metadata": {},
   "outputs": [
    {
     "data": {
      "application/vnd.jupyter.widget-view+json": {
       "model_id": "1d713ec5a7e04fa886950064bcb8ee0f",
       "version_major": 2,
       "version_minor": 0
      },
      "text/plain": [
       "Canvas(toolbar=Toolbar(toolitems=[('Home', 'Reset original view', 'home', 'home'), ('Back', 'Back to previous …"
      ]
     },
     "metadata": {},
     "output_type": "display_data"
    },
    {
     "data": {
      "text/plain": [
       "array([[<matplotlib.axes._subplots.AxesSubplot object at 0x1039b8150>]],\n",
       "      dtype=object)"
      ]
     },
     "execution_count": 8,
     "metadata": {},
     "output_type": "execute_result"
    }
   ],
   "source": [
    "df.hist(column='detection_rate', bins=10)"
   ]
  },
  {
   "cell_type": "markdown",
   "metadata": {},
   "source": [
    "To determine the average detection rate in LA county, the number of reported cases is divided by it’s estimated counterpart for each date. As displayed in the histogram, LA appears to detect approximately 10-20% of all COVID 19 cases. "
   ]
  }
 ],
 "metadata": {
  "kernelspec": {
   "display_name": "Python 3",
   "language": "python",
   "name": "python3"
  },
  "language_info": {
   "codemirror_mode": {
    "name": "ipython",
    "version": 3
   },
   "file_extension": ".py",
   "mimetype": "text/x-python",
   "name": "python",
   "nbconvert_exporter": "python",
   "pygments_lexer": "ipython3",
   "version": "3.7.6"
  }
 },
 "nbformat": 4,
 "nbformat_minor": 4
}
